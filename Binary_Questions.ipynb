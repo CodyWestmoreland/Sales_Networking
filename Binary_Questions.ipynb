{
 "cells": [
  {
   "cell_type": "markdown",
   "metadata": {},
   "source": [
    "# Seven Facts About Sales\n",
    "\n",
    "1. All sales is communicating value and all communicating value is sales\n",
    "2. Sales is not a dirty word\n",
    "3. Companies/people expect to be sold to\n",
    "4. Communicating value starts with the first contact\n",
    "5. Every sale is selling an experience\n",
    "    1. Example: \"Sell me this pen\" from Wolf of Wallstreet\n",
    "6. Sales is a skill-set, not a technique\n",
    "7. Buying something is **always** an emotional experience"
   ]
  },
  {
   "cell_type": "markdown",
   "metadata": {},
   "source": [
    "# What is a binary choice?\n",
    "\n",
    "An opportunity for you to \"lead the witness\"\n",
    "\n",
    "## Why is \"leading the witness\" important?\n",
    "\n",
    "\n",
    "Please watch this quick binary choice example\n",
    "\n"
   ]
  },
  {
   "cell_type": "markdown",
   "metadata": {},
   "source": [
    "# A Quick Framework from Communicating value\n",
    "1. **C**atagorize the conversation\n",
    "2. **A**sk Binary questions\n",
    "3. **R**epeat value\n",
    "4. **P**aint an experience\n",
    "5. **A**sk"
   ]
  },
  {
   "cell_type": "code",
   "execution_count": 1,
   "metadata": {},
   "outputs": [],
   "source": [
    "#from Sales import Confidence\n",
    "#from Sales import Eye_Contact\n",
    "#from Soul import Belief\n",
    "\n",
    "class Catagorize():    \n",
    "        \n",
    "    def Catagorizing_question_1(self):\n",
    "        self.answer = input(\"How do you see your company using a simulator in the future?\")\n",
    "        return self.answer\n",
    "        \n",
    "    def Catagorizing_question_2(self):\n",
    "        self.asnwer = input(\"What do you think the biggest value of a simulator is?\")\n",
    "        return self.answer\n",
    "        \n",
    "    def Catagorizing_question_3(self):\n",
    "        self.answer = input(\"What is your (or your business') goal when you use a simulator?\")\n",
    "        return self.answer\n",
    "        \n",
    "    def Catagorizing_question_4(self):\n",
    "        self.answer = input(\"How would you say using your current simulator has added value to your business?\")\n",
    "        return self.answer\n",
    "        \n",
    "# Notice how all questions are reasonibly general and open ended.\n",
    "# The goal of this question is to find out what is important to the person you are talking to.\n",
    "# This tells you what binary questions you should ask in the nest section of the conversation."
   ]
  },
  {
   "cell_type": "code",
   "execution_count": 11,
   "metadata": {
    "scrolled": true
   },
   "outputs": [],
   "source": [
    "#from Brain import memozing patterns\n",
    "#from Charm import jokes\n",
    "#from Soul import Belief\n",
    "\n",
    "class Ask_Binary_Question(Catagorize):\n",
    "    \n",
    "## FIRST SET OF BINARY QUESTIONS, BASED ON THE CATAGORY OF THE CONVERSATION\n",
    "\n",
    "    def Priority_is_Saving_Time(self):\n",
    "        options = ['a lot of small projects','a few big projects']\n",
    "        self.Value_nugget_1 = input('Out of curiosity, to save time, you use a simulator for ' +options[0] +' or ' +options[1])\n",
    "        \n",
    "    def Priority_is_Ease_of_Use(self):\n",
    "        options = ['setting up the sim quickly','viewing the results through a good visualization']\n",
    "        self.Value_nugget_1 = input('Oh cool, so do you think ' +options[0]  +' or ' +options[1] +' is most most important?')\n",
    "    \n",
    "    def Priority_is_Saving_Money(self):\n",
    "        #Similar stuff\n",
    "        pass\n",
    "    \n",
    "    \n",
    "    \n",
    "## SECOND SET OF BINARY QUESTION, BASED ON THE ANSWER TO THE FIRST BINARY QUESTION\n",
    "\n",
    "    def Saving_Time_Small_Projects(self):\n",
    "        options = ['high resolution in low time','a simple system to set up the sim']\n",
    "        self.Value_nugget_2 = input('Ok so you use a lot of small sims, would you say:' +options[0] +' or ' +options[1] +' is most important?')\n",
    "    \n",
    "    def Saving_Time_Big_Projects(self):\n",
    "        options = ['overall computational time','a simple system to set up the sim']\n",
    "        self.Value_nugget_2 = input('Ok so you use a few big sims, would you say:' +options[0] +' or ' +options[1] +' is most important?')\n",
    "        \n",
    "    def Saving_Ease_of_Use_Quick_SetUp(self):\n",
    "        options = ['how unintuative the interface is','how many options youre forced to select']\n",
    "        self.Value_nugget_2 = input('Ok so settign it up quickly important, would you say:' +options[0] +' or ' +options[1] +' is the greatest challenge?')\n",
    "        \n",
    "    def Saving_Ease_of_Use_Good_Visualization(self):\n",
    "        options = ['being about to view sim as it runs','have somthing useful ina  peresentation setting']\n",
    "        self.Value_nugget_2 = input('Ok so you need better visualizations, would you say:' +options[0] +' or ' +options[1] +' is most important?')\n",
    "        \n",
    "    \n",
    "# The idea of these questions is two give two possible responses, both of which are opportunities for the networking person or potential client\n",
    "# This gives you an opporunity to allow the person to sell themself"
   ]
  },
  {
   "cell_type": "code",
   "execution_count": null,
   "metadata": {},
   "outputs": [],
   "source": [
    "\n",
    "class Repeat_Value(Ask_Binary_Questions):\n",
    "    def Communicate_value(self):\n",
    "        print('Thats awesome! because the way were currently working on our simulator is perfect for' +self.Value_nugget_1 ' and ' +self.Value_nugget_2)\n",
    "    "
   ]
  },
  {
   "cell_type": "markdown",
   "metadata": {},
   "source": [
    "# Networking Company Google Account:\n",
    "## google ID: CerberusLabsSim\n",
    "## pass: Prometheus\n"
   ]
  },
  {
   "cell_type": "code",
   "execution_count": null,
   "metadata": {},
   "outputs": [],
   "source": []
  }
 ],
 "metadata": {
  "kernelspec": {
   "display_name": "Python 3",
   "language": "python",
   "name": "python3"
  },
  "language_info": {
   "codemirror_mode": {
    "name": "ipython",
    "version": 3
   },
   "file_extension": ".py",
   "mimetype": "text/x-python",
   "name": "python",
   "nbconvert_exporter": "python",
   "pygments_lexer": "ipython3",
   "version": "3.6.5"
  }
 },
 "nbformat": 4,
 "nbformat_minor": 2
}
